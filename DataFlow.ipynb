{
  "nbformat": 4,
  "nbformat_minor": 0,
  "metadata": {
    "colab": {
      "provenance": []
    },
    "kernelspec": {
      "name": "python3",
      "display_name": "Python 3"
    },
    "language_info": {
      "name": "python"
    }
  },
  "cells": [
    {
      "cell_type": "markdown",
      "source": [
        "# **Lectura y carga del archivo CatLineasAereas.csv**"
      ],
      "metadata": {
        "id": "ZknqCcbD-WTc"
      }
    },
    {
      "cell_type": "code",
      "source": [
        "# Instalar las dependencias necesarias\n",
        "!pip install apache-beam[gcp]\n",
        "!pip install google-cloud-storage google-cloud-bigquery\n",
        "\n",
        "# Importar librerias necesarias\n",
        "import apache_beam as beam\n",
        "from apache_beam.io import ReadFromText\n",
        "from apache_beam.io.jdbc import WriteToJdbc"
      ],
      "metadata": {
        "id": "4xn_8ymCmBV8"
      },
      "execution_count": null,
      "outputs": []
    },
    {
      "cell_type": "code",
      "source": [
        "def parse_csv_cat_lineas_aereas(line):\n",
        "    import csv\n",
        "    from io import StringIO\n",
        "\n",
        "    reader = csv.reader(StringIO(line))\n",
        "    for row in reader:\n",
        "        return {\n",
        "            'Code': row[0],\n",
        "            'Linea_Aerea': row[1]\n",
        "        }\n",
        "\n",
        "pipeline_options = beam.options.pipeline_options.PipelineOptions()\n",
        "\n",
        "with beam.Pipeline(options=pipeline_options) as p:\n",
        "    (p\n",
        "     | 'Read from GCS' >> ReadFromText('gs://aerline-storage/data/central/CatLineasAereas.csv')\n",
        "     | 'Parse CSV' >> beam.Map(parse_csv_cat_lineas_aereas)\n",
        "     | 'Write to MySQL' >> WriteToJdbc(\n",
        "         driver_class_name='com.mysql.cj.jdbc.Driver',\n",
        "         jdbc_url='jdbc:mysql://host:3306/db_aerolineas',\n",
        "         username='root',\n",
        "         password='',\n",
        "         table_name='cat_lineas_aereas',\n",
        "         statement='INSERT INTO catlineasaereas (Code, Linea_Aerea) VALUES (?, ?)'\n",
        "     )\n",
        "    )\n"
      ],
      "metadata": {
        "id": "IPhiUiWD-bYD"
      },
      "execution_count": null,
      "outputs": []
    },
    {
      "cell_type": "markdown",
      "source": [
        "# **Lectura y carga del archivo pasajeros.csv para la sucursal1**"
      ],
      "metadata": {
        "id": "Xq2ffrAI-3_6"
      }
    },
    {
      "cell_type": "code",
      "source": [
        "def parse_csv_pasajeros(line):\n",
        "    import csv\n",
        "    from io import StringIO\n",
        "\n",
        "    reader = csv.reader(StringIO(line))\n",
        "    for row in reader:\n",
        "        return {\n",
        "            'ID_Pasajero': int(row[0]),\n",
        "            'Pasajero': row[1],\n",
        "            'Edad': int(row[2])\n",
        "        }\n",
        "\n",
        "pipeline_options = beam.options.pipeline_options.PipelineOptions()\n",
        "\n",
        "with beam.Pipeline(options=pipeline_options) as p:\n",
        "    (p\n",
        "     | 'Read from GCS' >> ReadFromText('gs://aerline-storage/data/sucursal1/Pasajeros.csv')\n",
        "     | 'Parse CSV' >> beam.Map(parse_csv_pasajeros)\n",
        "     | 'Write to MySQL' >> WriteToJdbc(\n",
        "         driver_class_name='com.mysql.cj.jdbc.Driver',\n",
        "         jdbc_url='jdbc:mysql://host:3306/db_aerolineas',\n",
        "         username='root',\n",
        "         password='',\n",
        "         table_name='sucursal1_pasajeros',\n",
        "         statement='INSERT INTO sucursal1_pasajeros (ID_Pasajero, Pasajero, Edad) VALUES (?, ?, ?)'\n",
        "     )\n",
        "    )\n"
      ],
      "metadata": {
        "id": "CLuj1U4N_JqT"
      },
      "execution_count": null,
      "outputs": []
    },
    {
      "cell_type": "markdown",
      "source": [
        "# **Lectura y carga del archivo vuelo.csv para la sucursal1**"
      ],
      "metadata": {
        "id": "gNkZ45i8-DM2"
      }
    },
    {
      "cell_type": "code",
      "source": [
        "def parse_csv(line):\n",
        "    import csv\n",
        "    from io import StringIO\n",
        "\n",
        "    reader = csv.reader(StringIO(line))\n",
        "    for row in reader:\n",
        "        # Convert row values to appropriate types if necessary\n",
        "        return {\n",
        "            'Sucursal': int(row[0]),\n",
        "            'Cve_LA': row[1],\n",
        "            'Viaje': row[2],\n",
        "            'Clase': row[3],\n",
        "            'Precio': float(row[4]),\n",
        "            'Ruta': row[5],\n",
        "            'Cve_Cliente': int(row[6])\n",
        "        }\n",
        "\n",
        "pipeline_options = beam.options.pipeline_options.PipelineOptions()\n",
        "\n",
        "with beam.Pipeline(options=pipeline_options) as p:\n",
        "    (p\n",
        "     | 'Read from GCS' >> ReadFromText('gs://aerline-storage/data/sucursal1/vuelos.csv')\n",
        "     | 'Parse CSV' >> beam.Map(parse_csv)\n",
        "     | 'Write to MySQL' >> WriteToJdbc(\n",
        "         driver_class_name='com.mysql.cj.jdbc.Driver',\n",
        "         jdbc_url='jdbc:mysql://host:3306/db_aerolineas',\n",
        "         username='root',\n",
        "         password='',\n",
        "         table_name='sucursal1_vuelos',\n",
        "         statement='INSERT INTO sucursal1_vuelos (Sucursal, Cve_LA, Viaje, Clase, Precio, Ruta, Cve_Cliente) VALUES (?, ?, ?, ?, ?, ?, ?)'\n",
        "     )\n",
        "    )\n"
      ],
      "metadata": {
        "id": "5_Y3Zaq9mHLM"
      },
      "execution_count": null,
      "outputs": []
    },
    {
      "cell_type": "markdown",
      "source": [
        "# **Lectura y carga del archivo pasajeros.csv para la sucursal2**"
      ],
      "metadata": {
        "id": "dQDaChZv_W6-"
      }
    },
    {
      "cell_type": "code",
      "source": [
        "def parse_csv_pasajeros(line):\n",
        "    import csv\n",
        "    from io import StringIO\n",
        "\n",
        "    reader = csv.reader(StringIO(line))\n",
        "    for row in reader:\n",
        "        return {\n",
        "            'ID_Pasajero': int(row[0]),\n",
        "            'Pasajero': row[1],\n",
        "            'Edad': int(row[2])\n",
        "        }\n",
        "\n",
        "pipeline_options = beam.options.pipeline_options.PipelineOptions()\n",
        "\n",
        "with beam.Pipeline(options=pipeline_options) as p:\n",
        "    (p\n",
        "     | 'Read from GCS' >> ReadFromText('gs://aerline-storage/data/sucursal1/Pasajeros.csv')\n",
        "     | 'Parse CSV' >> beam.Map(parse_csv_pasajeros)\n",
        "     | 'Write to MySQL' >> WriteToJdbc(\n",
        "         driver_class_name='com.mysql.cj.jdbc.Driver',\n",
        "         jdbc_url='jdbc:mysql://host:3306/db_aerolineas',\n",
        "         username='root',\n",
        "         password='',\n",
        "         table_name='sucursal2_pasajeros',\n",
        "         statement='INSERT INTO sucursal1_pasajeros (ID_Pasajero, Pasajero, Edad) VALUES (?, ?, ?)'\n",
        "     )\n",
        "    )\n"
      ],
      "metadata": {
        "id": "tLBMBIdmKWO-"
      },
      "execution_count": null,
      "outputs": []
    },
    {
      "cell_type": "markdown",
      "source": [
        "# **Lectura y carga del archivo vuelo.csv para la sucursal2**"
      ],
      "metadata": {
        "id": "gU-Q4qOT_jOA"
      }
    },
    {
      "cell_type": "code",
      "source": [
        "def parse_csv(line):\n",
        "    import csv\n",
        "    from io import StringIO\n",
        "\n",
        "    reader = csv.reader(StringIO(line))\n",
        "    for row in reader:\n",
        "        # Convert row values to appropriate types if necessary\n",
        "        return {\n",
        "            'Sucursal': int(row[0]),\n",
        "            'Cve_LA': row[1],\n",
        "            'Viaje': row[2],\n",
        "            'Clase': row[3],\n",
        "            'Precio': float(row[4]),\n",
        "            'Ruta': row[5],\n",
        "            'Cve_Cliente': int(row[6])\n",
        "        }\n",
        "\n",
        "pipeline_options = beam.options.pipeline_options.PipelineOptions()\n",
        "\n",
        "with beam.Pipeline(options=pipeline_options) as p:\n",
        "    (p\n",
        "     | 'Read from GCS' >> ReadFromText('gs://aerline-storage/data/sucursal1/vuelos.csv')\n",
        "     | 'Parse CSV' >> beam.Map(parse_csv)\n",
        "     | 'Write to MySQL' >> WriteToJdbc(\n",
        "         driver_class_name='com.mysql.cj.jdbc.Driver',\n",
        "         jdbc_url='jdbc:mysql://host:3306/db_aerolineas',\n",
        "         username='root',\n",
        "         password='',\n",
        "         table_name='sucursal1_vuelos',\n",
        "         statement='INSERT INTO sucursal1_vuelos (Sucursal, Cve_LA, Viaje, Clase, Precio, Ruta, Cve_Cliente) VALUES (?, ?, ?, ?, ?, ?, ?)'\n",
        "     )\n",
        "    )"
      ],
      "metadata": {
        "id": "AxzL1HLq_r-s"
      },
      "execution_count": null,
      "outputs": []
    }
  ]
}